{
 "cells": [
  {
   "cell_type": "markdown",
   "metadata": {},
   "source": [
    "<div style=\"width: 100%; overflow: hidden;\">\n",
    "    <div style=\"width: 150px; float: left;\"> <img src=\"data/D4Sci_logo_ball.png\" alt=\"Data For Science, Inc\" align=\"left\" border=\"0\"> </div>\n",
    "    <div style=\"float: left; margin-left: 10px;\"> <h1>Machine Learning with PyTorch for Developers</h1>\n",
    "<h1>Machine Learning Overview</h1>\n",
    "        <p>Bruno Gonçalves<br/>\n",
    "        <a href=\"http://www.data4sci.com/\">www.data4sci.com</a><br/>\n",
    "            @bgoncalves, @data4sci</p></div>\n",
    "</div>"
   ]
  },
  {
   "cell_type": "code",
   "execution_count": 1,
   "metadata": {},
   "outputs": [],
   "source": [
    "from collections import Counter\n",
    "from pprint import pprint\n",
    "\n",
    "import pandas as pd\n",
    "import numpy as np\n",
    "import matplotlib.pyplot as plt \n",
    "\n",
    "import watermark\n",
    "\n",
    "%load_ext watermark\n",
    "%matplotlib inline"
   ]
  },
  {
   "cell_type": "markdown",
   "metadata": {},
   "source": [
    "We start by print out the versions of the libraries we're using for future reference"
   ]
  },
  {
   "cell_type": "code",
   "execution_count": 2,
   "metadata": {},
   "outputs": [
    {
     "name": "stdout",
     "output_type": "stream",
     "text": [
      "autopep8  1.5\n",
      "numpy     1.18.1\n",
      "json      2.0.9\n",
      "pandas    1.0.1\n",
      "watermark 2.0.2\n",
      "Mon May 11 2020 \n",
      "\n",
      "CPython 3.7.3\n",
      "IPython 6.2.1\n",
      "\n",
      "compiler   : Clang 4.0.1 (tags/RELEASE_401/final)\n",
      "system     : Darwin\n",
      "release    : 19.4.0\n",
      "machine    : x86_64\n",
      "processor  : i386\n",
      "CPU cores  : 8\n",
      "interpreter: 64bit\n",
      "Git hash   : f06693032ded22cc83a4db4c4a7a590c1fa4bc94\n"
     ]
    }
   ],
   "source": [
    "%watermark -n -v -m -g -iv"
   ]
  },
  {
   "cell_type": "markdown",
   "metadata": {},
   "source": [
    "Load default figure style"
   ]
  },
  {
   "cell_type": "code",
   "execution_count": 3,
   "metadata": {},
   "outputs": [],
   "source": [
    "plt.style.use('./d4sci.mplstyle')"
   ]
  },
  {
   "cell_type": "markdown",
   "metadata": {},
   "source": [
    "# Start"
   ]
  },
  {
   "cell_type": "code",
   "execution_count": null,
   "metadata": {},
   "outputs": [],
   "source": [
    "# PyTorch Fundamentals and Optimization Problems\n",
    "\n",
    "In this notebook we cover:\n",
    "- Basic tensor operations and autograd"
   ]
  },
  {
   "cell_type": "code",
   "execution_count": null,
   "metadata": {
    "vscode": {
     "languageId": "julia"
    }
   },
   "outputs": [],
   "source": [
    "import torch.nn as nn\n",
    "import torch.nn.functional as F\n",
    "\n",
    "# Introduction to PyTorch tensors and basic operations\n",
    "print(\"PyTorch Fundamentals:\\n\")\n",
    "\n",
    "# 1. Tensor Creation Methods\n",
    "print(\"Different ways to create tensors:\")\n",
    "# From Python list\n",
    "list_tensor = torch.tensor([[1, 2], [3, 4]])\n",
    "# From numpy array\n",
    "numpy_tensor = torch.from_numpy(np.array([[1, 2], [3, 4]]))\n",
    "# Special tensors\n",
    "range_tensor = torch.arange(0, 10, step=2)\n",
    "linspace_tensor = torch.linspace(0, 10, steps=5)\n",
    "\n",
    "print(f\"From list:\\n{list_tensor}\")\n",
    "print(f\"\\nRange tensor:\\n{range_tensor}\")\n",
    "print(f\"\\nLinspace tensor:\\n{linspace_tensor}\")\n",
    "\n",
    "# 2. Tensor Operations and Manipulations\n",
    "print(\"\\nTensor Operations:\")\n",
    "a = torch.tensor([[1, 2], [3, 4]])\n",
    "b = torch.tensor([[5, 6], [7, 8]])\n",
    "\n",
    "print(f\"Matrix multiplication:\\n{torch.mm(a, b)}\")\n",
    "print(f\"\\nElement-wise multiplication:\\n{a * b}\")\n",
    "print(f\"\\nTranspose:\\n{a.t()}\")\n",
    "\n",
    "# 3. Autograd Example\n",
    "print(\"\\nAutograd Demonstration:\")\n",
    "x = torch.tensor([[1., 2.]], requires_grad=True)\n",
    "y = torch.tensor([[3., 4.]], requires_grad=True)\n",
    "z = torch.sum(x * y)\n",
    "\n",
    "print(f\"Input x: {x}\")\n",
    "print(f\"Input y: {y}\")\n",
    "print(f\"z = sum(x * y): {z}\")\n",
    "\n",
    "z.backward()\n",
    "print(f\"\\nGradient of z with respect to x: {x.grad}\")\n",
    "print(f\"Gradient of z with respect to y: {y.grad}\")\n",
    "\n",
    "# 4. Neural Network Components\n",
    "print(\"\\nNeural Network Building Blocks:\")\n",
    "# Common activation functions\n",
    "input_tensor = torch.randn(3)\n",
    "print(f\"Input: {input_tensor}\")\n",
    "print(f\"ReLU: {F.relu(input_tensor)}\")\n",
    "print(f\"Sigmoid: {torch.sigmoid(input_tensor)}\")\n",
    "print(f\"Tanh: {torch.tanh(input_tensor)}\")"
   ]
  },
  {
   "cell_type": "code",
   "execution_count": null,
   "metadata": {
    "vscode": {
     "languageId": "julia"
    }
   },
   "outputs": [],
   "source": [
    "# Basic tensor operations\n",
    "print(\"Creating tensors:\")\n",
    "x = torch.tensor([1, 2, 3, 4])\n",
    "y = torch.tensor([5, 6, 7, 8])\n",
    "print(f\"x: {x}\")\n",
    "print(f\"y: {y}\")\n",
    "\n",
    "print(\"\\nBasic operations:\")\n",
    "print(f\"Addition: {x + y}\")\n",
    "print(f\"Multiplication: {x * y}\")\n",
    "\n",
    "# Creating different types of tensors\n",
    "print(\"\\nDifferent tensor types:\")\n",
    "zeros = torch.zeros(3, 3)\n",
    "ones = torch.ones(2, 2)\n",
    "random_tensor = torch.rand(2, 3)\n",
    "\n",
    "print(f\"Zeros:\\n{zeros}\")\n",
    "print(f\"\\nOnes:\\n{ones}\")\n",
    "print(f\"\\nRandom:\\n{random_tensor}\")\n",
    "\n",
    "# Tensor properties\n",
    "print(\"\\nTensor properties:\")\n",
    "print(f\"Shape of random tensor: {random_tensor.shape}\")\n",
    "print(f\"Data type of x: {x.dtype}\")\n",
    "print(f\"Device (CPU/GPU): {x.device}\")"
   ]
  },
  {
   "cell_type": "code",
   "execution_count": null,
   "metadata": {},
   "outputs": [],
   "source": [
    " Introduction to PyTorch basics\n",
    "print(\"PyTorch Introduction:\")\n",
    "\n",
    "# 1. Creating a simple Neural Network Layer\n",
    "linear = torch.nn.Linear(in_features=2, out_features=1)\n",
    "print(f\"\\nNeural Network Layer:\\n{linear}\")\n",
    "\n",
    "# 2. Define a simple optimization problem\n",
    "# Create random input data\n",
    "X = torch.randn(10, 2)  # 10 samples, 2 features\n",
    "y = torch.randn(10, 1)  # 10 targets\n",
    "\n",
    "# Define loss function and optimizer\n",
    "criterion = torch.nn.MSELoss()\n",
    "optimizer = torch.optim.SGD(linear.parameters(), lr=0.01)\n",
    "\n",
    "# 3. Simple training loop example\n",
    "print(\"\\nTraining Loop Example:\")\n",
    "for epoch in range(5):\n",
    "    # Forward pass\n",
    "    y_pred = linear(X)\n",
    "    loss = criterion(y_pred, y)\n",
    "    \n",
    "    # Backward pass\n",
    "    optimizer.zero_grad()\n",
    "    loss.backward()\n",
    "    optimizer.step()\n",
    "    \n",
    "    if epoch % 1 == 0:\n",
    "        print(f'Epoch {epoch+1}, Loss: {loss.item():.4f}')\n",
    "\n",
    "print(\"\\nOptimization components:\")\n",
    "print(f\"Optimizer: {type(optimizer).__name__}\")\n",
    "print(f\"Loss Function: {type(criterion).__name__}\")"
   ]
  },
  {
   "cell_type": "code",
   "execution_count": null,
   "metadata": {},
   "outputs": [],
   "source": []
  },
  {
   "cell_type": "code",
   "execution_count": null,
   "metadata": {},
   "outputs": [],
   "source": []
  },
  {
   "cell_type": "code",
   "execution_count": null,
   "metadata": {},
   "outputs": [],
   "source": []
  },
  {
   "cell_type": "markdown",
   "metadata": {},
   "source": [
    "<div style=\"width: 100%; overflow: hidden;\">\n",
    "     <img src=\"data/D4Sci_logo_full.png\" alt=\"Data For Science, Inc\" align=\"center\" border=\"0\" width=300px> \n",
    "</div>"
   ]
  },
  {
   "cell_type": "code",
   "execution_count": null,
   "metadata": {},
   "outputs": [],
   "source": []
  }
 ],
 "metadata": {
  "kernelspec": {
   "display_name": "Python 3 (ipykernel)",
   "language": "python",
   "name": "python3"
  },
  "language_info": {
   "codemirror_mode": {
    "name": "ipython",
    "version": 3
   },
   "file_extension": ".py",
   "mimetype": "text/x-python",
   "name": "python",
   "nbconvert_exporter": "python",
   "pygments_lexer": "ipython3",
   "version": "3.11.7"
  },
  "toc": {
   "base_numbering": 1,
   "nav_menu": {},
   "number_sections": true,
   "sideBar": true,
   "skip_h1_title": true,
   "title_cell": "Table of Contents",
   "title_sidebar": "Contents",
   "toc_cell": false,
   "toc_position": {},
   "toc_section_display": true,
   "toc_window_display": false
  },
  "varInspector": {
   "cols": {
    "lenName": 16,
    "lenType": 16,
    "lenVar": 40
   },
   "kernels_config": {
    "python": {
     "delete_cmd_postfix": "",
     "delete_cmd_prefix": "del ",
     "library": "var_list.py",
     "varRefreshCmd": "print(var_dic_list())"
    },
    "r": {
     "delete_cmd_postfix": ") ",
     "delete_cmd_prefix": "rm(",
     "library": "var_list.r",
     "varRefreshCmd": "cat(var_dic_list()) "
    }
   },
   "types_to_exclude": [
    "module",
    "function",
    "builtin_function_or_method",
    "instance",
    "_Feature"
   ],
   "window_display": false
  }
 },
 "nbformat": 4,
 "nbformat_minor": 2
}
